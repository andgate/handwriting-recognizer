{
 "cells": [
  {
   "attachments": {},
   "cell_type": "markdown",
   "id": "1410eba6",
   "metadata": {},
   "source": [
    "This notebook is used to for to train and build the model that our webapp will ultimately serve to users."
   ]
  },
  {
   "attachments": {},
   "cell_type": "markdown",
   "id": "12906043",
   "metadata": {},
   "source": [
    "Import required libraries."
   ]
  },
  {
   "cell_type": "code",
   "execution_count": 24,
   "metadata": {},
   "outputs": [],
   "source": [
    "%matplotlib inline\n",
    "\n",
    "import matplotlib.pyplot as plt\n",
    "import numpy as np\n",
    "import torch\n",
    "import torchmetrics\n",
    "import torch.nn as nn\n",
    "import torch.optim as optim\n",
    "import pytorch_lightning as pl\n",
    "from pytorch_lightning.callbacks.early_stopping import EarlyStopping\n",
    "from pytorch_lightning.loggers import TensorBoardLogger\n",
    "from torchvision import datasets, transforms\n",
    "from torch.utils.data import DataLoader, ConcatDataset\n",
    "import gradio as gr\n",
    "import onnx\n",
    "\n",
    "torch.set_float32_matmul_precision('high')"
   ]
  },
  {
   "attachments": {},
   "cell_type": "markdown",
   "id": "2b305f06",
   "metadata": {},
   "source": [
    "Define neural network architecture."
   ]
  },
  {
   "cell_type": "code",
   "execution_count": 2,
   "id": "7bcd6f18",
   "metadata": {},
   "outputs": [],
   "source": [
    "class DigitClassifier(nn.Module):\n",
    "    def __init__(self):\n",
    "        super(DigitClassifier, self).__init__()\n",
    "\n",
    "        self.model = nn.Sequential(\n",
    "            # Input size (1, 28, 28)\n",
    "            # Convolutional Base\n",
    "            # First convolution block\n",
    "            nn.Conv2d(1, 32, kernel_size=3, stride=1, padding=1), # (32, 28, 28)\n",
    "            nn.ReLU(),\n",
    "            nn.MaxPool2d(kernel_size=2, stride=2),  # (32, 14, 14)\n",
    "            # Second convolutional block\n",
    "            nn.Conv2d(32, 64, kernel_size=5, stride=1, padding=2), # (64, 14, 14)\n",
    "            nn.ReLU(),\n",
    "            nn.MaxPool2d(kernel_size=2, stride=2),  # (64, 7, 7)\n",
    "\n",
    "            # Linear head\n",
    "            nn.Flatten(),\n",
    "            # First linear block\n",
    "            nn.Linear(64*7*7, 128),\n",
    "            nn.ReLU(),\n",
    "            # Second linear block\n",
    "            nn.Dropout(0.5),\n",
    "            nn.Linear(128, 10),\n",
    "            nn.LogSoftmax(dim=1)\n",
    "        )\n",
    "        \n",
    "    def forward(self, x):\n",
    "        return self.model(x)"
   ]
  },
  {
   "attachments": {},
   "cell_type": "markdown",
   "id": "c50f0522",
   "metadata": {},
   "source": [
    "Setup pytorch lightning module for training the digit classifier."
   ]
  },
  {
   "cell_type": "code",
   "execution_count": 3,
   "id": "9690c7f7",
   "metadata": {},
   "outputs": [],
   "source": [
    "class LitDigitClassifier(pl.LightningModule):\n",
    "    def __init__(self):\n",
    "        super(LitDigitClassifier, self).__init__()\n",
    "        self.model = DigitClassifier()\n",
    "        self.loss = nn.NLLLoss()\n",
    "        self.train_losses = []\n",
    "        self.test_losses = []\n",
    "        self.epoch_train_accs = []\n",
    "        self.epoch_test_accs = []\n",
    "        self.train_acc = torchmetrics.Accuracy(task='multiclass', num_classes=10)\n",
    "        self.test_acc =  torchmetrics.Accuracy(task='multiclass', num_classes=10)\n",
    "    \n",
    "    def forward(self, x):\n",
    "        return self.model(x)\n",
    "    \n",
    "    def on_fit_start(self):\n",
    "        pl.seed_everything(42, workers=True) \n",
    "    \n",
    "    def training_step(self, batch, batch_idx):\n",
    "        X, y = batch\n",
    "        y_pred = self.model(X)\n",
    "        loss = self.loss(y_pred, y)\n",
    "\n",
    "        self.train_losses.append(loss.item())\n",
    "        self.epoch_train_accs.append(self.train_acc(y_pred, y).item())\n",
    "        \n",
    "        return loss\n",
    "\n",
    "    def validation_step(self, batch, batch_idx):\n",
    "        X, y = batch\n",
    "        y_pred = self.model(X)\n",
    "        loss = self.loss(y_pred, y)\n",
    "\n",
    "        self.test_losses.append(loss.item())\n",
    "        self.epoch_test_accs.append(self.test_acc(y_pred, y).item())\n",
    "\n",
    "        self.log('val_loss', loss, logger=False)\n",
    "\n",
    "    def configure_optimizers(self):\n",
    "        optimizer = optim.Adam(self.model.parameters(), lr=1e-4)\n",
    "        return optimizer\n",
    "\n",
    "    def on_train_epoch_end(self):\n",
    "        avg_train_loss = np.mean(self.train_losses)\n",
    "        self.train_losses.clear()\n",
    "        \n",
    "        avg_train_acc = np.mean(self.epoch_train_accs)\n",
    "        self.epoch_train_accs.clear()\n",
    "        self.train_acc.reset()\n",
    "\n",
    "        avg_test_loss = np.mean(self.test_losses)\n",
    "        self.test_losses.clear()\n",
    "        \n",
    "        avg_test_acc = np.mean(self.epoch_test_accs)\n",
    "        self.epoch_test_accs.clear()\n",
    "        self.test_acc.reset()\n",
    "\n",
    "        \n",
    "        self.logger.experiment.add_scalars('loss', { 'train': avg_train_loss, 'test': avg_test_loss }, self.current_epoch)\n",
    "        self.logger.experiment.add_scalars('accuracy', { 'train': avg_train_acc, 'test': avg_test_acc }, self.current_epoch)\n",
    "\n",
    "    def on_test_epoch_end(self):\n",
    "        avg_loss = np.mean(self.test_losses)\n",
    "        self.test_losses.clear()\n",
    "        \n",
    "        avg_acc = np.mean(self.epoch_test_accs)\n",
    "        self.epoch_test_accs.clear()\n",
    "        self.test_acc.reset()\n",
    "\n",
    "        self.logger.experiment.add_scalars('loss', { 'test': avg_loss }, self.current_epoch)\n",
    "        self.logger.experiment.add_scalars('accuracy', { 'test': avg_acc }, self.current_epoch)\n"
   ]
  },
  {
   "cell_type": "code",
   "execution_count": 4,
   "id": "44549fdc",
   "metadata": {},
   "outputs": [],
   "source": [
    "# # Create a new instance of your model architecture\n",
    "# model = LitDigitClassifier()\n",
    "\n",
    "# try:\n",
    "#     # Load the state_dict from the file\n",
    "#     model.model.load_state_dict(torch.load('model_weights.pth'))\n",
    "# except:\n",
    "#     print('Unable to load previous model')\n",
    "\n",
    "# # Set the model to evaluation mode\n",
    "# model.model.eval()"
   ]
  },
  {
   "attachments": {},
   "cell_type": "markdown",
   "id": "429236ba",
   "metadata": {},
   "source": [
    "Load MNIST dataset"
   ]
  },
  {
   "cell_type": "code",
   "execution_count": 5,
   "id": "4c5ad413",
   "metadata": {},
   "outputs": [],
   "source": [
    "mnist_transform = transforms.Compose([\n",
    "    transforms.ToTensor(),\n",
    "    transforms.Normalize((0.1307,), (0.3081,))\n",
    "])\n",
    "\n",
    "data_augmentation = transforms.Compose([\n",
    "    # transforms.RandomRotation(degrees=15), # rotation can cause some weird issues\n",
    "    transforms.RandomAffine(degrees=0, translate=(0.2, 0.2), scale=(0.9, 1.1)),\n",
    "    mnist_transform\n",
    "])\n",
    "\n",
    "original_train_dataset = datasets.MNIST(\n",
    "    root='./data',\n",
    "    train=True,\n",
    "    download=True,\n",
    "    transform=mnist_transform\n",
    ")\n",
    "augmented_train_dataset = datasets.MNIST(\n",
    "    root='./data',\n",
    "    train=True,\n",
    "    download=True,\n",
    "    transform=data_augmentation\n",
    ")\n",
    "train_dataset = ConcatDataset([original_train_dataset, augmented_train_dataset])\n",
    "# train_dataset = original_train_dataset\n",
    "\n",
    "test_dataset = datasets.MNIST(\n",
    "    root='./data',\n",
    "    train=False,\n",
    "    download=True,\n",
    "    transform=mnist_transform\n",
    ")\n",
    "\n",
    "train_loader = DataLoader(train_dataset, batch_size=32, shuffle=True, num_workers=8)\n",
    "test_loader = DataLoader(test_dataset, batch_size=32, shuffle=False, num_workers=8)"
   ]
  },
  {
   "cell_type": "code",
   "execution_count": 6,
   "id": "b27c8cad",
   "metadata": {},
   "outputs": [
    {
     "name": "stdout",
     "output_type": "stream",
     "text": [
      "Batch input X shape: torch.Size([32, 1, 28, 28])\n",
      "Batch target y shape: torch.Size([32])\n",
      "Batch target y values: tensor([2, 3, 4, 6, 6, 0, 6, 5, 4, 6, 7, 1, 5, 2, 2, 0, 9, 9, 0, 6, 9, 9, 6, 1,\n",
      "        3, 9, 6, 6, 1, 4, 8, 0])\n"
     ]
    }
   ],
   "source": [
    "data_iter = iter(train_loader)\n",
    "sample_batch = next(data_iter)\n",
    "\n",
    "X, y = sample_batch\n",
    "\n",
    "print(\"Batch input X shape:\", X.shape)\n",
    "print(\"Batch target y shape:\", y.shape)\n",
    "print(\"Batch target y values:\", y)"
   ]
  },
  {
   "cell_type": "code",
   "execution_count": 7,
   "id": "5be1e135",
   "metadata": {},
   "outputs": [
    {
     "data": {
      "image/png": "[encoded data removed]",
      "text/plain": [
       "<Figure size 640x480 with 1 Axes>"
      ]
     },
     "metadata": {},
     "output_type": "display_data"
    },
    {
     "data": {
      "image/png": "[encoded data removed]",
      "text/plain": [
       "<Figure size 640x480 with 1 Axes>"
      ]
     },
     "metadata": {},
     "output_type": "display_data"
    }
   ],
   "source": [
    "# Count occurrences of each class\n",
    "class_counts = np.zeros(10)\n",
    "for _, label in train_dataset:\n",
    "    class_counts[label] += 1\n",
    "\n",
    "# Create a bar graph\n",
    "class_labels = np.arange(10)\n",
    "plt.bar(class_labels, class_counts)\n",
    "\n",
    "plt.xlabel('Class Labels')\n",
    "plt.ylabel('Counts')\n",
    "plt.title('Counts of Each Class in the Training Dataset')\n",
    "\n",
    "plt.show()\n",
    "\n",
    "# Count occurrences of each class\n",
    "class_counts = np.zeros(10)\n",
    "for _, label in test_dataset:\n",
    "    class_counts[label] += 1\n",
    "\n",
    "# Create a bar graph\n",
    "class_labels = np.arange(10)\n",
    "plt.bar(class_labels, class_counts)\n",
    "\n",
    "plt.xlabel('Class Labels')\n",
    "plt.ylabel('Counts')\n",
    "plt.title('Counts of Each Class in the Test Dataset')\n",
    "\n",
    "plt.show()"
   ]
  },
  {
   "attachments": {},
   "cell_type": "markdown",
   "id": "34809c6e",
   "metadata": {},
   "source": [
    "Preview some of the augmented samples."
   ]
  },
  {
   "cell_type": "code",
   "execution_count": 8,
   "id": "54512b26",
   "metadata": {
    "tags": []
   },
   "outputs": [
    {
     "data": {
      "image/png": "[encoded data removed]",
      "text/plain": [
       "<Figure size 600x600 with 9 Axes>"
      ]
     },
     "metadata": {},
     "output_type": "display_data"
    }
   ],
   "source": [
    "# Function to unnormalize and convert tensor to a PIL image\n",
    "def unnormalize(tensor):\n",
    "    mean = 0.1307\n",
    "    std = 0.3081\n",
    "    img = tensor.clone().detach().numpy()\n",
    "    img = (img * std) + mean\n",
    "    img = img.squeeze()\n",
    "    return img\n",
    "\n",
    "# Display a grid of sample images\n",
    "num_samples = 9\n",
    "fig, axes = plt.subplots(3, 3, figsize=(6, 6))\n",
    "\n",
    "for i, ax in enumerate(axes.ravel()):\n",
    "    idx = torch.randint(0, len(augmented_train_dataset), (1,)).item()\n",
    "    img, label = augmented_train_dataset[idx]\n",
    "    img_unnorm = unnormalize(img)\n",
    "    ax.imshow(img_unnorm, cmap='gray')\n",
    "    ax.set_title(f'Label: {label}')\n",
    "    ax.axis('off')\n",
    "\n",
    "plt.tight_layout()\n",
    "plt.show()"
   ]
  },
  {
   "attachments": {},
   "cell_type": "markdown",
   "id": "d44496fd",
   "metadata": {},
   "source": [
    "Train and test the model, then plot the train and test losses per epoch."
   ]
  },
  {
   "cell_type": "code",
   "execution_count": 9,
   "id": "023a1ad0",
   "metadata": {},
   "outputs": [
    {
     "name": "stderr",
     "output_type": "stream",
     "text": [
      "GPU available: True (cuda), used: True\n",
      "TPU available: False, using: 0 TPU cores\n",
      "IPU available: False, using: 0 IPUs\n",
      "HPU available: False, using: 0 HPUs\n",
      "LOCAL_RANK: 0 - CUDA_VISIBLE_DEVICES: [0]\n",
      "\n",
      "  | Name      | Type               | Params\n",
      "-------------------------------------------------\n",
      "0 | model     | DigitClassifier    | 454 K \n",
      "1 | loss      | NLLLoss            | 0     \n",
      "2 | train_acc | MulticlassAccuracy | 0     \n",
      "3 | test_acc  | MulticlassAccuracy | 0     \n",
      "-------------------------------------------------\n",
      "454 K     Trainable params\n",
      "0         Non-trainable params\n",
      "454 K     Total params\n",
      "1.818     Total estimated model params size (MB)\n",
      "Global seed set to 42\n"
     ]
    },
    {
     "name": "stdout",
     "output_type": "stream",
     "text": [
      "Epoch 0: 100%|██████████| 3750/3750 [00:17<00:00, 212.08it/s, v_num=23]    "
     ]
    },
    {
     "name": "stderr",
     "output_type": "stream",
     "text": [
      "Metric val_loss improved. New best score: 0.072\n"
     ]
    },
    {
     "name": "stdout",
     "output_type": "stream",
     "text": [
      "Epoch 1: 100%|██████████| 3750/3750 [00:17<00:00, 209.06it/s, v_num=23]"
     ]
    },
    {
     "name": "stderr",
     "output_type": "stream",
     "text": [
      "Metric val_loss improved by 0.029 >= min_delta = 0.001. New best score: 0.043\n"
     ]
    },
    {
     "name": "stdout",
     "output_type": "stream",
     "text": [
      "Epoch 2: 100%|██████████| 3750/3750 [00:17<00:00, 210.12it/s, v_num=23]"
     ]
    },
    {
     "name": "stderr",
     "output_type": "stream",
     "text": [
      "Metric val_loss improved by 0.008 >= min_delta = 0.001. New best score: 0.035\n"
     ]
    },
    {
     "name": "stdout",
     "output_type": "stream",
     "text": [
      "Epoch 3: 100%|██████████| 3750/3750 [00:17<00:00, 210.47it/s, v_num=23]"
     ]
    },
    {
     "name": "stderr",
     "output_type": "stream",
     "text": [
      "Metric val_loss improved by 0.004 >= min_delta = 0.001. New best score: 0.031\n"
     ]
    },
    {
     "name": "stdout",
     "output_type": "stream",
     "text": [
      "Epoch 4: 100%|██████████| 3750/3750 [00:17<00:00, 211.48it/s, v_num=23]"
     ]
    },
    {
     "name": "stderr",
     "output_type": "stream",
     "text": [
      "Metric val_loss improved by 0.004 >= min_delta = 0.001. New best score: 0.026\n"
     ]
    },
    {
     "name": "stdout",
     "output_type": "stream",
     "text": [
      "Epoch 5: 100%|██████████| 3750/3750 [00:17<00:00, 212.01it/s, v_num=23]"
     ]
    },
    {
     "name": "stderr",
     "output_type": "stream",
     "text": [
      "Metric val_loss improved by 0.002 >= min_delta = 0.001. New best score: 0.024\n"
     ]
    },
    {
     "name": "stdout",
     "output_type": "stream",
     "text": [
      "Epoch 8: 100%|██████████| 3750/3750 [00:18<00:00, 203.46it/s, v_num=23]"
     ]
    },
    {
     "name": "stderr",
     "output_type": "stream",
     "text": [
      "Metric val_loss improved by 0.003 >= min_delta = 0.001. New best score: 0.021\n"
     ]
    },
    {
     "name": "stdout",
     "output_type": "stream",
     "text": [
      "Epoch 11: 100%|██████████| 3750/3750 [00:17<00:00, 210.96it/s, v_num=23]"
     ]
    },
    {
     "name": "stderr",
     "output_type": "stream",
     "text": [
      "Metric val_loss improved by 0.003 >= min_delta = 0.001. New best score: 0.017\n"
     ]
    },
    {
     "name": "stdout",
     "output_type": "stream",
     "text": [
      "Epoch 14: 100%|██████████| 3750/3750 [00:17<00:00, 213.32it/s, v_num=23]"
     ]
    },
    {
     "name": "stderr",
     "output_type": "stream",
     "text": [
      "Metric val_loss improved by 0.001 >= min_delta = 0.001. New best score: 0.016\n"
     ]
    },
    {
     "name": "stdout",
     "output_type": "stream",
     "text": [
      "Epoch 19: 100%|██████████| 3750/3750 [00:18<00:00, 198.00it/s, v_num=23]"
     ]
    },
    {
     "name": "stderr",
     "output_type": "stream",
     "text": [
      "Monitored metric val_loss did not improve in the last 5 records. Best score: 0.016. Signaling Trainer to stop.\n"
     ]
    },
    {
     "name": "stdout",
     "output_type": "stream",
     "text": [
      "Epoch 19: 100%|██████████| 3750/3750 [00:18<00:00, 197.83it/s, v_num=23]\n"
     ]
    }
   ],
   "source": [
    "model = LitDigitClassifier()\n",
    "logger = TensorBoardLogger('lightning_logs', name='mnist')\n",
    "early_stop_callback = EarlyStopping(monitor='val_loss', min_delta=1e-3, patience=5, verbose=True)\n",
    "trainer = pl.Trainer(\n",
    "    max_epochs=200,\n",
    "    min_epochs=3,\n",
    "    precision='32',\n",
    "    devices=torch.cuda.device_count(),\n",
    "    accelerator=\"gpu\",\n",
    "    logger=logger,\n",
    "    callbacks=[early_stop_callback]\n",
    ")\n",
    "trainer.fit(model, train_loader, test_loader)"
   ]
  },
  {
   "cell_type": "code",
   "execution_count": 20,
   "id": "9ce1a6e1",
   "metadata": {},
   "outputs": [],
   "source": [
    "torch.save(model.model.state_dict(), 'model_weights.pth')"
   ]
  },
  {
   "cell_type": "code",
   "execution_count": 21,
   "id": "f34bfcbb",
   "metadata": {},
   "outputs": [
    {
     "data": {
      "text/plain": [
       "DigitClassifier(\n",
       "  (model): Sequential(\n",
       "    (0): Conv2d(1, 32, kernel_size=(3, 3), stride=(1, 1), padding=(1, 1))\n",
       "    (1): ReLU()\n",
       "    (2): MaxPool2d(kernel_size=2, stride=2, padding=0, dilation=1, ceil_mode=False)\n",
       "    (3): Conv2d(32, 64, kernel_size=(5, 5), stride=(1, 1), padding=(2, 2))\n",
       "    (4): ReLU()\n",
       "    (5): MaxPool2d(kernel_size=2, stride=2, padding=0, dilation=1, ceil_mode=False)\n",
       "    (6): Flatten(start_dim=1, end_dim=-1)\n",
       "    (7): Linear(in_features=3136, out_features=128, bias=True)\n",
       "    (8): ReLU()\n",
       "    (9): Dropout(p=0.5, inplace=False)\n",
       "    (10): Linear(in_features=128, out_features=10, bias=True)\n",
       "    (11): LogSoftmax(dim=1)\n",
       "  )\n",
       ")"
      ]
     },
     "execution_count": 21,
     "metadata": {},
     "output_type": "execute_result"
    }
   ],
   "source": [
    "# Create a new instance of your model architecture\n",
    "digitClassifier = DigitClassifier()\n",
    "\n",
    "# Load the state_dict from the file\n",
    "digitClassifier.load_state_dict(torch.load('model_weights.pth'))\n",
    "\n",
    "# Set the model to evaluation mode\n",
    "digitClassifier.eval()"
   ]
  },
  {
   "cell_type": "code",
   "execution_count": 26,
   "id": "1be62bda",
   "metadata": {},
   "outputs": [
    {
     "data": {
      "image/png": "[encoded data removed]",
      "text/plain": [
       "<Figure size 600x600 with 9 Axes>"
      ]
     },
     "metadata": {},
     "output_type": "display_data"
    }
   ],
   "source": [
    "# Function to unnormalize and convert tensor to a PIL image\n",
    "def unnormalize(tensor):\n",
    "    mean = 0.1307\n",
    "    std = 0.3081\n",
    "    img = tensor.clone().detach().numpy()\n",
    "    img = (img * std) + mean\n",
    "    img = img.squeeze()\n",
    "    return img\n",
    "\n",
    "# Display a grid of sample images\n",
    "num_samples = 9\n",
    "fig, axes = plt.subplots(3, 3, figsize=(6, 6))\n",
    "\n",
    "digitClassifier.eval()\n",
    "for i, ax in enumerate(axes.ravel()):\n",
    "    idx = torch.randint(0, len(train_dataset), (1,)).item()\n",
    "    img, label = train_dataset[idx]\n",
    "    img_unnorm = unnormalize(img)\n",
    "    with torch.no_grad():\n",
    "        prediction = torch.exp(digitClassifier(img.unsqueeze(0)))\n",
    "        predicted_label = torch.argmax(prediction, dim=1).item()\n",
    "    ax.imshow(img_unnorm, cmap='gray')\n",
    "    ax.set_title(f'Actual: {label}, Predicted: {predicted_label}')\n",
    "    ax.axis('off')\n",
    "\n",
    "plt.tight_layout()\n",
    "plt.show()"
   ]
  },
  {
   "attachments": {},
   "cell_type": "markdown",
   "id": "2ee672b9",
   "metadata": {},
   "source": [
    "Experiment with gradio interface."
   ]
  },
  {
   "cell_type": "code",
   "execution_count": 35,
   "id": "fee98e2c",
   "metadata": {},
   "outputs": [],
   "source": [
    "def classify(image):\n",
    "    if image is None:\n",
    "        return {str(i): 0 for i in range(10)}\n",
    "    \n",
    "    digitClassifier.eval()\n",
    "    with torch.no_grad():\n",
    "        X = transforms.ToTensor()(image).unsqueeze(0)\n",
    "        y = torch.exp(digitClassifier(X)).tolist()[0]\n",
    "        confidences = {str(i): y[i] for i in range(10)}\n",
    "    return confidences\n",
    "    \n",
    "sketchpad = gr.Sketchpad(shape=(28, 28), invert_colors=True)\n",
    "label = gr.components.Label(num_top_classes=3)\n",
    "interface = gr.Interface(classify, sketchpad, label, live=True)"
   ]
  },
  {
   "cell_type": "code",
   "execution_count": 37,
   "id": "d51e5665",
   "metadata": {},
   "outputs": [
    {
     "name": "stdout",
     "output_type": "stream",
     "text": [
      "Rerunning server... use `close()` to stop if you need to change `launch()` parameters.\n",
      "----\n",
      "Running on local URL:  http://127.0.0.1:7864\n",
      "\n",
      "To create a public link, set `share=True` in `launch()`.\n"
     ]
    },
    {
     "data": {
      "text/html": [
       "<div><iframe src=\"http://127.0.0.1:7864/\" width=\"100%\" height=\"500\" allow=\"autoplay; camera; microphone; clipboard-read; clipboard-write;\" frameborder=\"0\" allowfullscreen></iframe></div>"
      ],
      "text/plain": [
       "<IPython.core.display.HTML object>"
      ]
     },
     "metadata": {},
     "output_type": "display_data"
    },
    {
     "data": {
      "text/plain": []
     },
     "execution_count": 37,
     "metadata": {},
     "output_type": "execute_result"
    }
   ],
   "source": [
    "interface.launch()"
   ]
  },
  {
   "attachments": {},
   "cell_type": "markdown",
   "id": "1f13488e",
   "metadata": {},
   "source": [
    "Finally, export our trained model via ONNX to our webapps `asset` folder."
   ]
  },
  {
   "cell_type": "code",
   "execution_count": 40,
   "id": "7bf688ba",
   "metadata": {},
   "outputs": [
    {
     "name": "stdout",
     "output_type": "stream",
     "text": [
      "============= Diagnostic Run torch.onnx.export version 2.0.1+cu118 =============\n",
      "verbose: False, log level: Level.ERROR\n",
      "======================= 0 NONE 0 NOTE 0 WARNING 0 ERROR ========================\n",
      "\n"
     ]
    }
   ],
   "source": [
    "dummy_input = torch.randn(1, 1, 28, 28)\n",
    "digitClassifier.eval()\n",
    "\n",
    "# Export the model\n",
    "torch.onnx.export(\n",
    "    digitClassifier,                        # model being run\n",
    "    # model input (or a tuple for multiple inputs)\n",
    "    dummy_input,\n",
    "    # where to save the model (can be a file or file-like object)\n",
    "    \"src/assets/mnist.onnx\",\n",
    "    input_names = ['input'],     # the model's input names\n",
    "    output_names = ['output'],    # the model's output names\n",
    "    dynamic_axes = {\n",
    "        # variable length axes\n",
    "        'input': {0: 'batch_size'},\n",
    "        'output': {0: 'batch_size'}\n",
    "    },\n",
    "    verbose=True,\n",
    ")"
   ]
  },
  {
   "cell_type": "code",
   "execution_count": 41,
   "id": "e4999037",
   "metadata": {},
   "outputs": [
    {
     "name": "stdout",
     "output_type": "stream",
     "text": [
      "graph torch_jit (\n",
      "  %input[FLOAT, batch_sizex1x28x28]\n",
      ") initializers (\n",
      "  %model.0.weight[FLOAT, 32x1x3x3]\n",
      "  %model.0.bias[FLOAT, 32]\n",
      "  %model.3.weight[FLOAT, 64x32x5x5]\n",
      "  %model.3.bias[FLOAT, 64]\n",
      "  %model.7.weight[FLOAT, 128x3136]\n",
      "  %model.7.bias[FLOAT, 128]\n",
      "  %model.10.weight[FLOAT, 10x128]\n",
      "  %model.10.bias[FLOAT, 10]\n",
      ") {\n",
      "  %/model/model.0/Conv_output_0 = Conv[dilations = [1, 1], group = 1, kernel_shape = [3, 3], pads = [1, 1, 1, 1], strides = [1, 1]](%input, %model.0.weight, %model.0.bias)\n",
      "  %/model/model.1/Relu_output_0 = Relu(%/model/model.0/Conv_output_0)\n",
      "  %/model/model.2/MaxPool_output_0 = MaxPool[ceil_mode = 0, kernel_shape = [2, 2], pads = [0, 0, 0, 0], strides = [2, 2]](%/model/model.1/Relu_output_0)\n",
      "  %/model/model.3/Conv_output_0 = Conv[dilations = [1, 1], group = 1, kernel_shape = [5, 5], pads = [2, 2, 2, 2], strides = [1, 1]](%/model/model.2/MaxPool_output_0, %model.3.weight, %model.3.bias)\n",
      "  %/model/model.4/Relu_output_0 = Relu(%/model/model.3/Conv_output_0)\n",
      "  %/model/model.5/MaxPool_output_0 = MaxPool[ceil_mode = 0, kernel_shape = [2, 2], pads = [0, 0, 0, 0], strides = [2, 2]](%/model/model.4/Relu_output_0)\n",
      "  %/model/model.6/Flatten_output_0 = Flatten[axis = 1](%/model/model.5/MaxPool_output_0)\n",
      "  %/model/model.7/Gemm_output_0 = Gemm[alpha = 1, beta = 1, transB = 1](%/model/model.6/Flatten_output_0, %model.7.weight, %model.7.bias)\n",
      "  %/model/model.8/Relu_output_0 = Relu(%/model/model.7/Gemm_output_0)\n",
      "  %/model/model.10/Gemm_output_0 = Gemm[alpha = 1, beta = 1, transB = 1](%/model/model.8/Relu_output_0, %model.10.weight, %model.10.bias)\n",
      "  %output = LogSoftmax[axis = 1](%/model/model.10/Gemm_output_0)\n",
      "  return %output\n",
      "}\n"
     ]
    }
   ],
   "source": [
    "# Load the ONNX model\n",
    "onnx_model = onnx.load(\"src/assets/mnist.onnx\")\n",
    "\n",
    "# Check that the model is well formed\n",
    "onnx.checker.check_model(onnx_model)\n",
    "\n",
    "# Print a human readable representation of the graph\n",
    "print(onnx.helper.printable_graph(onnx_model.graph))"
   ]
  }
 ],
 "metadata": {
  "kernelspec": {
   "display_name": "env",
   "language": "python",
   "name": "python3"
  },
  "language_info": {
   "codemirror_mode": {
    "name": "ipython",
    "version": 3
   },
   "file_extension": ".py",
   "mimetype": "text/x-python",
   "name": "python",
   "nbconvert_exporter": "python",
   "pygments_lexer": "ipython3",
   "version": "3.10.10"
  }
 },
 "nbformat": 4,
 "nbformat_minor": 5
}
